{
 "cells": [
  {
   "cell_type": "code",
   "execution_count": 1,
   "id": "89a0dafe",
   "metadata": {},
   "outputs": [
    {
     "name": "stdout",
     "output_type": "stream",
     "text": [
      "ok\n"
     ]
    }
   ],
   "source": [
    "print('ok')"
   ]
  },
  {
   "cell_type": "code",
   "execution_count": 18,
   "id": "bcf513a4",
   "metadata": {},
   "outputs": [
    {
     "name": "stderr",
     "output_type": "stream",
     "text": [
      "/home/aditya/anaconda3/envs/venvGenAI1/lib/python3.12/site-packages/tqdm/auto.py:21: TqdmWarning: IProgress not found. Please update jupyter and ipywidgets. See https://ipywidgets.readthedocs.io/en/stable/user_install.html\n",
      "  from .autonotebook import tqdm as notebook_tqdm\n"
     ]
    }
   ],
   "source": [
    "import chromadb\n",
    "import google.generativeai as genai\n",
    "import pandas as pd\n",
    "import os\n",
    "import time  # <-- IMPORT THE TIME CULTIVATION METHOD\n",
    "from dotenv import load_dotenv\n",
    "from chromadb import Documents, EmbeddingFunction, Embeddings"
   ]
  },
  {
   "cell_type": "code",
   "execution_count": 19,
   "id": "747faa54",
   "metadata": {},
   "outputs": [],
   "source": [
    "COLLECTION_NAME = \"legal_docs\"\n",
    "GEMINI_EMBEDDING_MODEL = \"models/text-embedding-004\""
   ]
  },
  {
   "cell_type": "markdown",
   "id": "994a7ecd",
   "metadata": {},
   "source": [
    "we again need to use gemini embedding function just with retrieval task"
   ]
  },
  {
   "cell_type": "code",
   "execution_count": 20,
   "id": "a9199d7f",
   "metadata": {},
   "outputs": [],
   "source": [
    "# Load environment variables from a .env file\n",
    "load_dotenv()\n",
    "GOOGLE_API_KEY = os.getenv('GOOGLE_API_KEY')\n",
    "\n",
    "if not GOOGLE_API_KEY:\n",
    "    raise ValueError(\"GOOGLE_API_KEY not found. Please set it in your .env file.\")\n",
    "\n",
    "# Configure the Gemini client\n",
    "genai.configure(api_key=GOOGLE_API_KEY)"
   ]
  },
  {
   "cell_type": "code",
   "execution_count": 21,
   "id": "ef23700a",
   "metadata": {},
   "outputs": [],
   "source": [
    "# --- 2. Define the Custom Gemini Embedding Function ---\n",
    "class GeminiEmbeddingFunction(EmbeddingFunction):\n",
    "    \"\"\"\n",
    "    Custom embedding function using the Gemini API, with an __init__ method.\n",
    "    \"\"\"\n",
    "    def __init__(self):\n",
    "        pass\n",
    "\n",
    "    def __call__(self, input: Documents) -> Embeddings:\n",
    "        result = genai.embed_content(model=GEMINI_EMBEDDING_MODEL,\n",
    "                                         content=input,\n",
    "                                         task_type=\"RETRIEVAL_QUERY\")\n",
    "        return result['embedding']\n",
    "        "
   ]
  },
  {
   "cell_type": "code",
   "execution_count": 22,
   "id": "a060eec9",
   "metadata": {},
   "outputs": [],
   "source": [
    "gemini_ef = GeminiEmbeddingFunction()"
   ]
  },
  {
   "cell_type": "code",
   "execution_count": 2,
   "id": "d85f1949",
   "metadata": {},
   "outputs": [],
   "source": [
    "import chromadb"
   ]
  },
  {
   "cell_type": "code",
   "execution_count": 23,
   "id": "78596a2e",
   "metadata": {},
   "outputs": [],
   "source": [
    "client = chromadb.PersistentClient(path=\"/home/aditya/0Legal_Agent_Project/chroma_db\")"
   ]
  },
  {
   "cell_type": "code",
   "execution_count": 24,
   "id": "8406f9d7",
   "metadata": {},
   "outputs": [
    {
     "data": {
      "text/plain": [
       "[Collection(name=legal_docs)]"
      ]
     },
     "execution_count": 24,
     "metadata": {},
     "output_type": "execute_result"
    }
   ],
   "source": [
    "client.list_collections()"
   ]
  },
  {
   "cell_type": "code",
   "execution_count": 25,
   "id": "a219dcc6",
   "metadata": {},
   "outputs": [],
   "source": [
    "collection = client.get_collection(name=\"legal_docs\", embedding_function=gemini_ef)"
   ]
  },
  {
   "cell_type": "code",
   "execution_count": 26,
   "id": "a54634ec",
   "metadata": {},
   "outputs": [
    {
     "data": {
      "text/plain": [
       "{'ids': ['nyaaya_10_chunk_0'],\n",
       " 'embeddings': None,\n",
       " 'documents': ['Home/Legal Explainers/Money & Property/Money/ChequesA cheque allows a person to ask their bank to deduct money from their account to give it to someone. There are many types of cheques such as order cheque, crossed cheque, bearer cheque etc.ChequesThis explainer discusses the concept of cheques, cheque bouncing and punishments for committing cheque related crimes. It primarily deals with the law laid out in the Negotiable Instruments Act, 1881.Introduction to ChequesHow do cheques work?Intention of Drawer of ChequeImportance of Signature on a ChequeEncash a chequeCheque ClearingCheque Truncation SystemEndorsing chequesSpeed Clearing for Outstation ChequesTypes of ChequesValid chequesCrossed ChequeUncrossed or open chequeBearer chequeOrder ChequeCancelled chequePrecautionsPrecautions to be taken by customersPrecautions to be taken by banks while dealing with chequesProblems & ForgeryCheque Processing ProblemsForging a chequeCheque BouncingCheque BouncingNotice after a cheque has bouncedWho can file a case for cheque bouncing?Banks falsely bouncing chequesFiling a case against a company for dishonour of chequePrecautions to be taken by customers to avoid cheque bouncingTime Period for Filing a complaint for cheque bouncingSettlement out of court for cheque bouncingPunishment for Cheque Bouncing CasesArrest for Cheque BouncingComplaints & CourtsSettlement out of court for cheque bouncingWhere to file a complaint?FAQsHow do I know the cheque collection policy of my bank?Each bank will have their own policy on cheque collection. You can ask your bank or check their website for their policy.Someone issued a cheque to me but the account was closed before I could encash it. Is this cheque bouncing?Yes, this is cheque bouncing. If the account of the person who issued you the cheque is closed, then it is an act of cheque bouncing.What does Account Payee on the side corner of the cheque mean?If “Account Payee” is written between the crossed lines on the corner of the cheque, it means that when the cheque is presented to the bank by you, the cheque amount will be transferred to your bank account only. You cannot get the cheque amount in cash over the counter.What does “or bearer” on a cheque mean?When a cheque has no name written in the payee section and the “or bearer” has not been crossed out, it is called a bearer cheque. To know more about bearer cheques, please refer tothis.Are there any other consequences to dishonor of cheque that I can face in terms of banking privileges with my respective bank?The RBI (Reserve Bank of India) allows each bank to decide the consequences of repeated cheque bounces. So please check with your bank with regards to specific consequences for repeated cheque bounces.Is it possible that the bank can misplace my cheque after I have presented it to them for encashment?It is possible for the bank to misplace your cheque either during the clearing process or at the paying bank’s branch. In such situations the bank should do the following:The bank should immediately inform the customer who presented the cheque.The customer is entitled to be reimbursed by banks for related expenses for obtaining duplicate instruments and also interest for reasonable delays in obtaining the same.As soon as the bank informs the customer that the cheque has been lost, then the customer can take precautions and inform the drawer of the cheque to stop the payment of the cheque.It may however be noted that the probability of losing the physical instrument in the hands of paying bank is remote, in the locations covered by CTS as clearing is undertaken on the basis of images.Will I receive an acknowledgement for cheque deposited in a bank for collection?There are two types of facilities that banks provide for cheques:They provide a drop-box facility where you can drop-off your cheque. You will not get an acknowledgement for a cheque dropped at the drop-box.They also have collection counters where you can get an acknowledgement when you give the cheque for collection at the bank branch’s counter.I issued a cheque to my landlord at the beginning of the month for rent and when he en-cashed the cheque there was no money in my bank account. Can I be held liable?Yes, you can be held liable for cheque bouncing. Typically a cheque is valid for 3 months from the date on which it is issued. When you make a promise to your landlord to pay your rent through a cheque, it is understood your promise is good for 3 months. Even if your intention was to pay your rent when you wrote the cheque, but a few days later, your account balance went below the amount required to pay the rent cheque on the day your landlord presented the cheque for payment,you have still committed an illegal act. The relevant factor is not your intention to pay when you wrote the cheque, but whether your promise can be honoured on the day your landlord presents the cheque at his bank.I lost my cheque return memo. What do I do?Write to your bank requesting another cheque return memo. Your bank will give you another copy of the cheque return memo which will be in duplicate.If I have filed a cheque bouncing case against someone, can I ask the Court for some interim compensation?Yes, if you have filed a cheque bouncing case against someone, you can apply for interim compensation to be given to you. This compensation would be 20 percent of the amount of cheque that was bounced. Once the court passes the order for the compensation, you should be paid within 60 days by the accused person. In exceptional cases they can even pay you in 90 days.If the final court order in the case is in your favour, the award amount that you will receive will be after deducting the compensation amount paid in the beginning of the case. But in case the final order is not in your favour, you must return the initial compensation amount with interest.What is the format in which I should send a notice to the issuer/drawer of the cheque?Any demand made after the dishonour of cheque will constitute a notice. It is not necessary that the notice should be sent by Registered Post alone, it could be sent even by fax. It is not necessary that the notice should be in any particular form or style. What is essential is that there should be a demand to pay the dishonoured cheque amount.'],\n",
       " 'uris': None,\n",
       " 'included': ['metadatas', 'documents'],\n",
       " 'data': None,\n",
       " 'metadatas': [{'category': 'Money And Property',\n",
       "   'title': 'Cheques',\n",
       "   'source': 'https://nyaaya.org/legal-explainers/money-and-property/money/cheques/'}]}"
      ]
     },
     "execution_count": 26,
     "metadata": {},
     "output_type": "execute_result"
    }
   ],
   "source": [
    "collection.get('nyaaya_10_chunk_0')"
   ]
  },
  {
   "cell_type": "code",
   "execution_count": 29,
   "id": "4ae425c5",
   "metadata": {},
   "outputs": [],
   "source": [
    "res = collection.query(\n",
    "    query_texts=[\"What is are the types of cheques?\"],\n",
    "    n_results=5\n",
    ")"
   ]
  },
  {
   "cell_type": "code",
   "execution_count": 30,
   "id": "814aa24a",
   "metadata": {},
   "outputs": [
    {
     "data": {
      "text/plain": [
       "{'ids': [['kaggle_1780_chunk_0',\n",
       "   'nyaaya_10_chunk_0',\n",
       "   'kaggle_1904_chunk_0',\n",
       "   'kaggle_1780_chunk_3',\n",
       "   'kaggle_1902_chunk_0']],\n",
       " 'embeddings': None,\n",
       " 'documents': [['A “cheque” is a bill of exchange drawn on a specified banker and not expressed to be payable otherwise than on demand and it includes the electronic image of a truncated cheque and a cheque in the electronic form.',\n",
       "   'Home/Legal Explainers/Money & Property/Money/ChequesA cheque allows a person to ask their bank to deduct money from their account to give it to someone. There are many types of cheques such as order cheque, crossed cheque, bearer cheque etc.ChequesThis explainer discusses the concept of cheques, cheque bouncing and punishments for committing cheque related crimes. It primarily deals with the law laid out in the Negotiable Instruments Act, 1881.Introduction to ChequesHow do cheques work?Intention of Drawer of ChequeImportance of Signature on a ChequeEncash a chequeCheque ClearingCheque Truncation SystemEndorsing chequesSpeed Clearing for Outstation ChequesTypes of ChequesValid chequesCrossed ChequeUncrossed or open chequeBearer chequeOrder ChequeCancelled chequePrecautionsPrecautions to be taken by customersPrecautions to be taken by banks while dealing with chequesProblems & ForgeryCheque Processing ProblemsForging a chequeCheque BouncingCheque BouncingNotice after a cheque has bouncedWho can file a case for cheque bouncing?Banks falsely bouncing chequesFiling a case against a company for dishonour of chequePrecautions to be taken by customers to avoid cheque bouncingTime Period for Filing a complaint for cheque bouncingSettlement out of court for cheque bouncingPunishment for Cheque Bouncing CasesArrest for Cheque BouncingComplaints & CourtsSettlement out of court for cheque bouncingWhere to file a complaint?FAQsHow do I know the cheque collection policy of my bank?Each bank will have their own policy on cheque collection. You can ask your bank or check their website for their policy.Someone issued a cheque to me but the account was closed before I could encash it. Is this cheque bouncing?Yes, this is cheque bouncing. If the account of the person who issued you the cheque is closed, then it is an act of cheque bouncing.What does Account Payee on the side corner of the cheque mean?If “Account Payee” is written between the crossed lines on the corner of the cheque, it means that when the cheque is presented to the bank by you, the cheque amount will be transferred to your bank account only. You cannot get the cheque amount in cash over the counter.What does “or bearer” on a cheque mean?When a cheque has no name written in the payee section and the “or bearer” has not been crossed out, it is called a bearer cheque. To know more about bearer cheques, please refer tothis.Are there any other consequences to dishonor of cheque that I can face in terms of banking privileges with my respective bank?The RBI (Reserve Bank of India) allows each bank to decide the consequences of repeated cheque bounces. So please check with your bank with regards to specific consequences for repeated cheque bounces.Is it possible that the bank can misplace my cheque after I have presented it to them for encashment?It is possible for the bank to misplace your cheque either during the clearing process or at the paying bank’s branch. In such situations the bank should do the following:The bank should immediately inform the customer who presented the cheque.The customer is entitled to be reimbursed by banks for related expenses for obtaining duplicate instruments and also interest for reasonable delays in obtaining the same.As soon as the bank informs the customer that the cheque has been lost, then the customer can take precautions and inform the drawer of the cheque to stop the payment of the cheque.It may however be noted that the probability of losing the physical instrument in the hands of paying bank is remote, in the locations covered by CTS as clearing is undertaken on the basis of images.Will I receive an acknowledgement for cheque deposited in a bank for collection?There are two types of facilities that banks provide for cheques:They provide a drop-box facility where you can drop-off your cheque. You will not get an acknowledgement for a cheque dropped at the drop-box.They also have collection counters where you can get an acknowledgement when you give the cheque for collection at the bank branch’s counter.I issued a cheque to my landlord at the beginning of the month for rent and when he en-cashed the cheque there was no money in my bank account. Can I be held liable?Yes, you can be held liable for cheque bouncing. Typically a cheque is valid for 3 months from the date on which it is issued. When you make a promise to your landlord to pay your rent through a cheque, it is understood your promise is good for 3 months. Even if your intention was to pay your rent when you wrote the cheque, but a few days later, your account balance went below the amount required to pay the rent cheque on the day your landlord presented the cheque for payment,you have still committed an illegal act. The relevant factor is not your intention to pay when you wrote the cheque, but whether your promise can be honoured on the day your landlord presents the cheque at his bank.I lost my cheque return memo. What do I do?Write to your bank requesting another cheque return memo. Your bank will give you another copy of the cheque return memo which will be in duplicate.If I have filed a cheque bouncing case against someone, can I ask the Court for some interim compensation?Yes, if you have filed a cheque bouncing case against someone, you can apply for interim compensation to be given to you. This compensation would be 20 percent of the amount of cheque that was bounced. Once the court passes the order for the compensation, you should be paid within 60 days by the accused person. In exceptional cases they can even pay you in 90 days.If the final court order in the case is in your favour, the award amount that you will receive will be after deducting the compensation amount paid in the beginning of the case. But in case the final order is not in your favour, you must return the initial compensation amount with interest.What is the format in which I should send a notice to the issuer/drawer of the cheque?Any demand made after the dishonour of cheque will constitute a notice. It is not necessary that the notice should be sent by Registered Post alone, it could be sent even by fax. It is not necessary that the notice should be in any particular form or style. What is essential is that there should be a demand to pay the dishonoured cheque amount.',\n",
       "   'Where a cheque is uncrossed, the holder may cross it generally or specially.\\nWhere a cheque is crossed generally, the holder may cross it specially.\\nWhere a cheque is crossed generally or specially, the holder may add the words “not negotiable”.\\nWhere a cheque is crossed specially, the banker to whom it is crossed may again cross it specially to another banker. his agent, for collection.',\n",
       "   '“a cheque in the electronic form” means a cheque drawn in electronic form by using any computer resource and signed in a secure system with digital signature (with or without biometrics signature) and asymmetric crypto system or with electronic signature, as the case may be;\\n\\t\\t\\t“a truncated cheque” means a cheque which is truncated during the course of a clearing cycle, either by the clearing house or by the bank whether paying or receiving payment, immediately on generation of an electronic image for transmission, substituting the further physical movement of the cheque in writing.',\n",
       "   'Where a cheque bears across its face an addition of the words “and company” or any abbreviation thereof, between two parallel transverse lines, or of two parallel transverse lines simply, either with or without the words “not negotiable”, that addition shall be deemed a crossing, and the cheque shall be deemed to be crossed generally.']],\n",
       " 'uris': None,\n",
       " 'included': ['metadatas', 'documents', 'distances'],\n",
       " 'data': None,\n",
       " 'metadatas': [[{'category': 'Motor Vehicles Act, 1988',\n",
       "    'title': 'Cheque',\n",
       "    'source': 'Kaggle Dataset - Doc 1780'},\n",
       "   {'source': 'https://nyaaya.org/legal-explainers/money-and-property/money/cheques/',\n",
       "    'title': 'Cheques',\n",
       "    'category': 'Money And Property'},\n",
       "   {'category': 'Motor Vehicles Act, 1988',\n",
       "    'title': 'Crossing after issue',\n",
       "    'source': 'Kaggle Dataset - Doc 1904'},\n",
       "   {'category': 'Motor Vehicles Act, 1988',\n",
       "    'title': 'Cheque',\n",
       "    'source': 'Kaggle Dataset - Doc 1780'},\n",
       "   {'title': 'Cheque crossed generally',\n",
       "    'category': 'Motor Vehicles Act, 1988',\n",
       "    'source': 'Kaggle Dataset - Doc 1902'}]],\n",
       " 'distances': [[0.644587516784668,\n",
       "   0.7332789301872253,\n",
       "   0.7635397911071777,\n",
       "   0.7652986645698547,\n",
       "   0.8169615268707275]]}"
      ]
     },
     "execution_count": 30,
     "metadata": {},
     "output_type": "execute_result"
    }
   ],
   "source": [
    "res"
   ]
  },
  {
   "cell_type": "code",
   "execution_count": null,
   "id": "86107a19",
   "metadata": {},
   "outputs": [],
   "source": []
  }
 ],
 "metadata": {
  "kernelspec": {
   "display_name": "venvGenAI1",
   "language": "python",
   "name": "python3"
  },
  "language_info": {
   "codemirror_mode": {
    "name": "ipython",
    "version": 3
   },
   "file_extension": ".py",
   "mimetype": "text/x-python",
   "name": "python",
   "nbconvert_exporter": "python",
   "pygments_lexer": "ipython3",
   "version": "3.12.11"
  }
 },
 "nbformat": 4,
 "nbformat_minor": 5
}
